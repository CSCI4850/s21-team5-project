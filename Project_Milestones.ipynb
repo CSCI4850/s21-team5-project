{
 "cells": [
  {
   "cell_type": "markdown",
   "id": "conditional-carroll",
   "metadata": {},
   "source": [
    "Team Sigmoid, the member’s names:"
   ]
  },
  {
   "cell_type": "markdown",
   "id": "offensive-break",
   "metadata": {},
   "source": [
    "Munayfah Albaqami, Emily Turner, Tyler Chris, Anthony Ghebranious, Dylan Fox"
   ]
  },
  {
   "cell_type": "markdown",
   "id": "prepared-jenny",
   "metadata": {},
   "source": [
    "First Milestone"
   ]
  },
  {
   "cell_type": "markdown",
   "id": "viral-orange",
   "metadata": {},
   "source": [
    "3/15/2021"
   ]
  },
  {
   "cell_type": "markdown",
   "id": "portuguese-buddy",
   "metadata": {},
   "source": [
    "Deliverable |Percent Complete |Estimated Completion Date | Percent Complete by Next Milestone\n",
    "------------|-----------------|--------------------------|-----------------------------------\n",
    "Code|0%|Apr 20|15%\n",
    "Paper|0%|Apr 21|10%\n",
    "Demo|0%|May 3|0%\n",
    "Presentation|0%|May 3|0%\n",
    "\n",
    "\n",
    "1.This is our first milestone, so we still not have any goals to do until now.\n",
    "\n",
    "2.This is our first milestone, so we still not have any goals that we did not do yet.\n",
    "\n",
    "3.Main deliverable:\n",
    "\n",
    "    > For the code: our goal is to try to finish 10-15% from the code before the next milestone (Emily and Dylan)\n",
    "    > For the paper: our goal is to start to prepare and find some resources that will help writing the paper (Anthony)\n",
    "    > For the demo and the presentation: we will not do anything until we start working in the code.\n"
   ]
  }
 ],
 "metadata": {
  "kernelspec": {
   "display_name": "Python 3",
   "language": "python",
   "name": "python3"
  },
  "language_info": {
   "codemirror_mode": {
    "name": "ipython",
    "version": 3
   },
   "file_extension": ".py",
   "mimetype": "text/x-python",
   "name": "python",
   "nbconvert_exporter": "python",
   "pygments_lexer": "ipython3",
   "version": "3.8.6"
  }
 },
 "nbformat": 4,
 "nbformat_minor": 5
}
