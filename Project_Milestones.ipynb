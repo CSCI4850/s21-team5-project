{
  "nbformat": 4,
  "nbformat_minor": 5,
  "metadata": {
    "kernelspec": {
      "display_name": "Python 3",
      "language": "python",
      "name": "python3"
    },
    "language_info": {
      "codemirror_mode": {
        "name": "ipython",
        "version": 3
      },
      "file_extension": ".py",
      "mimetype": "text/x-python",
      "name": "python",
      "nbconvert_exporter": "python",
      "pygments_lexer": "ipython3",
      "version": "3.8.6"
    },
    "colab": {
      "name": "Project_Milestones.ipynb",
      "provenance": [],
      "collapsed_sections": []
    }
  },
  "cells": [
    {
      "cell_type": "markdown",
      "metadata": {
        "id": "e8DKwhlGlI7N"
      },
      "source": [
        "Team Sigmoid, the member’s names:"
      ],
      "id": "e8DKwhlGlI7N"
    },
    {
      "cell_type": "markdown",
      "metadata": {
        "id": "k7drAaOIlI7W"
      },
      "source": [
        "Munayfah Albaqami, Emily Turner, Tyler Christian, Anthony Ghebranious, Dylan Fox"
      ],
      "id": "k7drAaOIlI7W"
    },
    {
      "cell_type": "markdown",
      "metadata": {
        "id": "5-D4hsbtlI7e"
      },
      "source": [
        "First Milestone"
      ],
      "id": "5-D4hsbtlI7e"
    },
    {
      "cell_type": "markdown",
      "metadata": {
        "id": "p58W4updlI7k"
      },
      "source": [
        "3/15/2021"
      ],
      "id": "p58W4updlI7k"
    },
    {
      "cell_type": "markdown",
      "metadata": {
        "id": "FhWPwtfjlI7n"
      },
      "source": [
        "Deliverable |Percent Complete |Estimated Completion Date | Percent Complete by Next Milestone\n",
        "------------|-----------------|--------------------------|-----------------------------------\n",
        "Code|0%|Apr 20|15%\n",
        "Paper|0%|Apr 21|10%\n",
        "Demo|0%|May 3|0%\n",
        "Presentation|0%|May 3|0%\n",
        "\n",
        "\n",
        "1.This is our first milestone, so we still not have any goals to do until now.\n",
        "\n",
        "2.This is our first milestone, so we still not have any goals that we did not do yet.\n",
        "\n",
        "3.Main deliverable:\n",
        "\n",
        "    > For the code: our goal is to try to finish 10-15% from the code before the next milestone (Emily and Dylan)\n",
        "    > For the paper: our goal is to start to prepare and find some resources that will help writing the paper (Anthony)\n",
        "    > For the demo and the presentation: we will not do anything until we start working in the code.\n"
      ],
      "id": "FhWPwtfjlI7n"
    },
    {
      "cell_type": "markdown",
      "metadata": {
        "id": "kAWlOt5clI7p"
      },
      "source": [
        "Second Milestone"
      ],
      "id": "kAWlOt5clI7p"
    },
    {
      "cell_type": "markdown",
      "metadata": {
        "id": "QVKYUfkxlI7q"
      },
      "source": [
        "3/22/21"
      ],
      "id": "QVKYUfkxlI7q"
    },
    {
      "cell_type": "markdown",
      "metadata": {
        "id": "WVA5SRELlI7t"
      },
      "source": [
        "Deliverable |Percent Complete |Estimated Completion Date | Percent Complete by Next Milestone\n",
        "------------|-----------------|--------------------------|-----------------------------------\n",
        "Code|5%|Apr 20|15%\n",
        "Paper|5%|Apr 21|10%\n",
        "Demo|0%|May 3|0%\n",
        "Presentation|0%|May 3|5%\n",
        "\n",
        "\n",
        "1.In this week, we started to work in the code and we finished 5% from our goal until now. We also had an in-depth discussion about our data set. We decided that we needed a more intricate data set, so Dylan contacted a friend who was able to provide a better data set with more data. We are also determining if there are and expansions in terms of capabilities for this project. \n",
        "\n",
        "2.In this week, we were planning to finish 15% from the code but we couldn't do that yet and hopefully we can finish as much as we can before the next week. In terms of coding, the only real code we have at the moment has been importing the libraries appropriate for our purposes.\n",
        "\n",
        "3.Main deliverable:\n",
        "\n",
        "    > For the code: our goal is to finish 15% from the code before the next milestone (Emily and Dylan)\n",
        "    > For the paper: our goal is to finish 10% from the paper before the next milestone (Anthony)\n",
        "    > For the demo and the presentation: we will not do anything until we finish working in the code. Tyler may, however, start putting together the Powerpoint for our presentation.\n",
        "    > For the milestones: Munayfah and Tyler will work together to submit the milestones week by week with the new updates about the project.\n",
        "    ."
      ],
      "id": "WVA5SRELlI7t"
    },
    {
      "cell_type": "markdown",
      "metadata": {
        "id": "5Qwk2tHZlI7v"
      },
      "source": [
        "Third Milestone"
      ],
      "id": "5Qwk2tHZlI7v"
    },
    {
      "cell_type": "markdown",
      "metadata": {
        "id": "_aXwzCW5lI7v"
      },
      "source": [
        "3/29/21"
      ],
      "id": "_aXwzCW5lI7v"
    },
    {
      "cell_type": "markdown",
      "metadata": {
        "id": "vNOtRs07lI7x"
      },
      "source": [
        "Deliverable |Percent Complete |Estimated Completion Date | Percent Complete by Next Milestone\n",
        "------------|-----------------|--------------------------|-----------------------------------\n",
        "Code|10%|Apr 20|20%\n",
        "Paper|10%|Apr 21|15%\n",
        "Demo|0%|May 3|0%\n",
        "Presentation|0%|May 3|5%\n",
        "\n",
        "\n",
        "1. In this week, we started to work in the code and we completed our percentage goal. Code for this milestone also included research on reading and preprocessing datasets from PDF files and storing such data into a CSV file for later use. We have also created a convolution network, but it is currently unknown how effective/accurate this network is.\n",
        "\n",
        "2. In this week, we were planning to finish more of the jounral paper/article. We are slowly working our way towards completing this paper, and, as of now, only the Introduction section has been completed.\n",
        "\n",
        "3. Main deliverable:\n",
        "\n",
        "    > For the code: Our goal is to determine and implement how to read in data from PDF files and store the data into CSV files (Emily, Dylan, Tyler)\n",
        "    > For the paper: Our goal is to start writing more of the paper and collect more sources. (Anthony)\n",
        "    > For the demo and the presentation: we will not do anything until we finish working in the code.\n",
        "    > For the milestones: Munayfah and Tyler will work together to submit the milestones week by week with the new updates about the project. Tyler and Munayfah have asked all group members what they have done for the project each week and will help around in other sections if needed."
      ],
      "id": "vNOtRs07lI7x"
    },
    {
      "cell_type": "markdown",
      "metadata": {
        "id": "gbs6prhPnCq2"
      },
      "source": [
        "Fourth Milestone"
      ],
      "id": "gbs6prhPnCq2"
    },
    {
      "cell_type": "markdown",
      "metadata": {
        "id": "l5JZHdJqnFkQ"
      },
      "source": [
        "4/6/21"
      ],
      "id": "l5JZHdJqnFkQ"
    },
    {
      "cell_type": "markdown",
      "metadata": {
        "id": "DwM733g_l-pp"
      },
      "source": [
        "\n",
        "\n",
        "Deliverable |Percent Complete |Estimated Completion Date | Percent Complete by Next Milestone\n",
        "------------|-----------------|--------------------------|-----------------------------------\n",
        "Code|75%|Apr 20|20%\n",
        "Paper|10%|Apr 21|15%\n",
        "Demo|0%|May 3|0%\n",
        "Presentation|0%|May 3|5%\n",
        "\n",
        "\n",
        "1. In this week, we did more than what we were planning. We added couple lines to our code that will help us to solve our problem. Also, we worked more in the paper since the code is almost done.\n",
        "\n",
        "2. In this week, I think we do not have anything we did not do this week.\n",
        "\n",
        "3. Main deliverable:\n",
        "    > For the code: our goal is to work in the code that we have right now and hopefully can finish the whole code this week (Emily and Dylan)\n",
        "    > For the paper: our goal is to finish 30% from the paper before the next milestone (Anthony and Tyler)\n",
        "    > For the demo and the presentation: since we may finish the code this week, we will try to work on them and finish as much as we can before the next milestone.\n",
        "    > For the milestones: Munayfah and Tyler will work together to submit the milestones week by week with the new updates about the project. Also, they will help around if anyone in the team need help."
      ],
      "id": "DwM733g_l-pp"
    },
    {
      "cell_type": "markdown",
      "metadata": {
        "id": "cJRWForhl2gs"
      },
      "source": [
        ""
      ],
      "id": "cJRWForhl2gs"
    }
  ]
}
