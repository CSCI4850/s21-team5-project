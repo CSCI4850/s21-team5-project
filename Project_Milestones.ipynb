{
 "cells": [
  {
   "cell_type": "markdown",
   "metadata": {},
   "source": [
    "Team Sigmoid, the member’s names:"
   ]
  },
  {
   "cell_type": "markdown",
   "metadata": {},
   "source": [
    "Munayfah Albaqami, Emily Turner, Tyler Christian, Anthony Ghebranious, Dylan Fox"
   ]
  },
  {
   "cell_type": "markdown",
   "metadata": {},
   "source": [
    "First Milestone"
   ]
  },
  {
   "cell_type": "markdown",
   "metadata": {},
   "source": [
    "3/15/2021"
   ]
  },
  {
   "cell_type": "markdown",
   "metadata": {},
   "source": [
    "Deliverable |Percent Complete |Estimated Completion Date | Percent Complete by Next Milestone\n",
    "------------|-----------------|--------------------------|-----------------------------------\n",
    "Code|0%|Apr 20|15%\n",
    "Paper|0%|Apr 21|10%\n",
    "Demo|0%|May 3|0%\n",
    "Presentation|0%|May 3|0%\n",
    "\n",
    "\n",
    "1.This is our first milestone, so we still not have any goals to do until now.\n",
    "\n",
    "2.This is our first milestone, so we still not have any goals that we did not do yet.\n",
    "\n",
    "3.Main deliverable:\n",
    "\n",
    "    > For the code: our goal is to try to finish 10-15% from the code before the next milestone (Emily and Dylan)\n",
    "    > For the paper: our goal is to start to prepare and find some resources that will help writing the paper (Anthony)\n",
    "    > For the demo and the presentation: we will not do anything until we start working in the code.\n"
   ]
  },
  {
   "cell_type": "markdown",
   "metadata": {},
   "source": [
    "Second Milestone"
   ]
  },
  {
   "cell_type": "markdown",
   "metadata": {},
   "source": [
    "3/22/21"
   ]
  },
  {
   "cell_type": "markdown",
   "metadata": {},
   "source": [
    "Deliverable |Percent Complete |Estimated Completion Date | Percent Complete by Next Milestone\n",
    "------------|-----------------|--------------------------|-----------------------------------\n",
    "Code|5%|Apr20|15%\n",
    "Paper|5%|Apr21|10%\n",
    "Demo|0%|May3|0%\n",
    "Presentation|0%|May3|5%\n",
    "\n",
    "\n",
    "1.In this week, we started to work in the code and we finished 5% from our goal until now. We also had an in-depth discussion about our data set. We decided that we needed a more intricate data set, so Dylan contacted a friend who was able to provide a better data set with more data. We are also determining if there are and expansions in terms of capabilities for this project. \n",
    "\n",
    "2.In this week, we were planning to finish 15% from the code but we couldn't do that yet and hopefully we can finish as much as we can before the next week. In terms of coding, the only real code we have at the moment has been importing the libraries appropriate for our purposes.\n",
    "\n",
    "3.Main deliverable:\n",
    "\n",
    "    > For the code: our goal is to finish 15% from the code before the next milestone (Emily and Dylan)\n",
    "    > For the paper: our goal is to finish 10% from the paper before the next milestone (Anthony)\n",
    "    > For the demo and the presentation: we will not do anything until we finish working in the code. Tyler may, however, start putting together the Powerpoint for our presentation.\n",
    "    > For the milestones: Munayfah and Tyler will work together to submit the milestones week by week with the new updates about the project.\n",
    "    ."
   ]
  },
  {
   "cell_type": "markdown",
   "metadata": {},
   "source": [
    "Third Milestone"
   ]
  },
  {
   "cell_type": "markdown",
   "metadata": {},
   "source": [
    "3/29/21"
   ]
  },
  {
   "cell_type": "markdown",
   "metadata": {},
   "source": [
    "Deliverable |Percent Complete |Estimated Completion Date | Percent Complete by Next Milestone\n",
    "------------|-----------------|--------------------------|-----------------------------------\n",
    "Code|10%|Apr20|20%\n",
    "Paper|10%|Apr21|15%\n",
    "Demo|0%|May3|0%\n",
    "Presentation|0%|May3|5%\n",
    "\n",
    "\n",
    "1. In this week, we started to work in the code and we completed our percentage goal. Code for this milestone also included research on reading and preprocessing datasets from PDF files and storing such data into a CSV file for later use. We have also created a convolution network, but it is currently unknown how effective/accurate this network is.\n",
    "\n",
    "2. In this week, we were planning to finish more of the jounral paper/article. We are slowly working our way towards completing this paper, and, as of now, only the Introduction section has been completed.\n",
    "\n",
    "3. Main deliverable:\n",
    "\n",
    "    > For the code: Our goal is to determine and implement how to read in data from PDF files and store the data into CSV files (Emily, Dylan, Tyler)\n",
    "    > For the paper: Our goal is to start writing more of the paper and collect more sources. (Anthony)\n",
    "    > For the demo and the presentation: we will not do anything until we finish working in the code.\n",
    "    > For the milestones: Munayfah and Tyler will work together to submit the milestones week by week with the new updates about the project. Tyler and Munayfah have asked all group members what they have done for the project each week and will help around in other sections if needed."
   ]
  },
  {
   "cell_type": "code",
   "execution_count": null,
   "metadata": {},
   "outputs": [],
   "source": []
  }
 ],
 "metadata": {
  "kernelspec": {
   "display_name": "Python 3",
   "language": "python",
   "name": "python3"
  },
  "language_info": {
   "codemirror_mode": {
    "name": "ipython",
    "version": 3
   },
   "file_extension": ".py",
   "mimetype": "text/x-python",
   "name": "python",
   "nbconvert_exporter": "python",
   "pygments_lexer": "ipython3",
   "version": "3.8.6"
  }
 },
 "nbformat": 4,
 "nbformat_minor": 5
}
