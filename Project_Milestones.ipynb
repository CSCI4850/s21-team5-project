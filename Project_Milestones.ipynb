{
 "cells": [
  {
   "cell_type": "markdown",
   "metadata": {
    "id": "e8DKwhlGlI7N"
   },
   "source": [
    "Team Sigmoid, the member’s names:"
   ]
  },
  {
   "cell_type": "markdown",
   "metadata": {
    "id": "k7drAaOIlI7W"
   },
   "source": [
    "Munayfah Albaqami, Emily Turner, Tyler Christian, Anthony Ghebranious, Dylan Fox"
   ]
  },
  {
   "cell_type": "markdown",
   "metadata": {
    "id": "5-D4hsbtlI7e"
   },
   "source": [
    "First Milestone"
   ]
  },
  {
   "cell_type": "markdown",
   "metadata": {
    "id": "p58W4updlI7k"
   },
   "source": [
    "3/15/2021"
   ]
  },
  {
   "cell_type": "markdown",
   "metadata": {
    "id": "FhWPwtfjlI7n"
   },
   "source": [
    "Deliverable |Percent Complete |Estimated Completion Date | Percent Complete by Next Milestone\n",
    "------------|-----------------|--------------------------|-----------------------------------\n",
    "Code|0%|Apr 20|15%\n",
    "Paper|0%|Apr 21|10%\n",
    "Demo|0%|May 3|0%\n",
    "Presentation|0%|May 3|0%\n",
    "\n",
    "\n",
    "1.This is our first milestone, so we still not have any goals to do until now.\n",
    "\n",
    "2.This is our first milestone, so we still not have any goals that we did not do yet.\n",
    "\n",
    "3.Main deliverable:\n",
    "\n",
    "    > For the code: our goal is to try to finish 10-15% from the code before the next milestone (Emily and Dylan)\n",
    "    > For the paper: our goal is to start to prepare and find some resources that will help writing the paper (Anthony)\n",
    "    > For the demo and the presentation: we will not do anything until we start working in the code.\n"
   ]
  },
  {
   "cell_type": "markdown",
   "metadata": {
    "id": "kAWlOt5clI7p"
   },
   "source": [
    "Second Milestone"
   ]
  },
  {
   "cell_type": "markdown",
   "metadata": {
    "id": "QVKYUfkxlI7q"
   },
   "source": [
    "3/22/21"
   ]
  },
  {
   "cell_type": "markdown",
   "metadata": {
    "id": "WVA5SRELlI7t"
   },
   "source": [
    "Deliverable |Percent Complete |Estimated Completion Date | Percent Complete by Next Milestone\n",
    "------------|-----------------|--------------------------|-----------------------------------\n",
    "Code|5%|Apr 20|15%\n",
    "Paper|5%|Apr 21|10%\n",
    "Demo|0%|May 3|0%\n",
    "Presentation|0%|May 3|5%\n",
    "\n",
    "\n",
    "1.In this week, we started to work in the code and we finished 5% from our goal until now. We also had an in-depth discussion about our data set. We decided that we needed a more intricate data set, so Dylan contacted a friend who was able to provide a better data set with more data. We are also determining if there are and expansions in terms of capabilities for this project. \n",
    "\n",
    "2.In this week, we were planning to finish 15% from the code but we couldn't do that yet and hopefully we can finish as much as we can before the next week. In terms of coding, the only real code we have at the moment has been importing the libraries appropriate for our purposes.\n",
    "\n",
    "3.Main deliverable:\n",
    "\n",
    "    > For the code: our goal is to finish 15% from the code before the next milestone (Emily and Dylan)\n",
    "    > For the paper: our goal is to finish 10% from the paper before the next milestone (Anthony)\n",
    "    > For the demo and the presentation: we will not do anything until we finish working in the code. Tyler may, however, start putting together the Powerpoint for our presentation.\n",
    "    > For the milestones: Munayfah and Tyler will work together to submit the milestones week by week with the new updates about the project.\n",
    "    ."
   ]
  },
  {
   "cell_type": "markdown",
   "metadata": {
    "id": "5Qwk2tHZlI7v"
   },
   "source": [
    "Third Milestone"
   ]
  },
  {
   "cell_type": "markdown",
   "metadata": {
    "id": "_aXwzCW5lI7v"
   },
   "source": [
    "3/29/21"
   ]
  },
  {
   "cell_type": "markdown",
   "metadata": {
    "id": "vNOtRs07lI7x"
   },
   "source": [
    "Deliverable |Percent Complete |Estimated Completion Date | Percent Complete by Next Milestone\n",
    "------------|-----------------|--------------------------|-----------------------------------\n",
    "Code|10%|Apr 20|20%\n",
    "Paper|10%|Apr 21|15%\n",
    "Demo|0%|May 3|0%\n",
    "Presentation|0%|May 3|5%\n",
    "\n",
    "\n",
    "1. In this week, we started to work in the code and we completed our percentage goal. Code for this milestone also included research on reading and preprocessing datasets from PDF files and storing such data into a CSV file for later use. We have also created a convolution network, but it is currently unknown how effective/accurate this network is.\n",
    "\n",
    "2. In this week, we were planning to finish more of the jounral paper/article. We are slowly working our way towards completing this paper, and, as of now, only the Introduction section has been completed.\n",
    "\n",
    "3. Main deliverable:\n",
    "\n",
    "    > For the code: Our goal is to determine and implement how to read in data from PDF files and store the data into CSV files (Emily, Dylan, Tyler)\n",
    "    > For the paper: Our goal is to start writing more of the paper and collect more sources. (Anthony)\n",
    "    > For the demo and the presentation: we will not do anything until we finish working in the code.\n",
    "    > For the milestones: Munayfah and Tyler will work together to submit the milestones week by week with the new updates about the project. Tyler and Munayfah have asked all group members what they have done for the project each week and will help around in other sections if needed."
   ]
  },
  {
   "cell_type": "markdown",
   "metadata": {
    "id": "gbs6prhPnCq2"
   },
   "source": [
    "Fourth Milestone"
   ]
  },
  {
   "cell_type": "markdown",
   "metadata": {
    "id": "l5JZHdJqnFkQ"
   },
   "source": [
    "4/5/21"
   ]
  },
  {
   "cell_type": "markdown",
   "metadata": {
    "id": "DwM733g_l-pp"
   },
   "source": [
    "\n",
    "\n",
    "Deliverable |Percent Complete |Estimated Completion Date | Percent Complete by Next Milestone\n",
    "------------|-----------------|--------------------------|-----------------------------------\n",
    "Code|75%|Apr 20|85%\n",
    "Paper|10%|Apr 21|20%\n",
    "Demo|0%|May 3|5%\n",
    "Presentation|0%|May 3|5%\n",
    "\n",
    "\n",
    "1. In this week, we did more than what we were planning. We added couple lines to our code that will help us to solve our problem. Also, we worked more in the paper since the code is almost done.\n",
    "\n",
    "2. In this week, I think we do not have anything we did not do this week.\n",
    "\n",
    "3. Main deliverable:\n",
    "    > For the code: our goal is to work in the code that we have right now and hopefully can finish the whole code this week (Emily and Dylan)\n",
    "    > For the paper: our goal is to finish 30% from the paper before the next milestone (Anthony and Tyler)\n",
    "    > For the demo and the presentation: since we may finish the code this week, we will try to work on them and finish as much as we can before the next milestone.\n",
    "    > For the milestones: Munayfah and Tyler will work together to submit the milestones week by week with the new updates about the project. Also, they will help around if anyone in the team need help."
   ]
  },
  {
   "cell_type": "markdown",
   "metadata": {
    "id": "cJRWForhl2gs"
   },
   "source": [
    "Fifth Milestone"
   ]
  },
  {
   "cell_type": "markdown",
   "metadata": {},
   "source": [
    "04/12/21"
   ]
  },
  {
   "cell_type": "markdown",
   "metadata": {},
   "source": [
    "Deliverable |Percent Complete |Estimated Completion Date | Percent Complete by Next Milestone\n",
    "------------|-----------------|--------------------------|-----------------------------------\n",
    "Code|85%|Apr 20|95%\n",
    "Paper|20%|Apr 21|80%\n",
    "Demo|0%|May 3|5%\n",
    "Presentation|20%|May 3|40%\n",
    "\n",
    "\n",
    "1) This week, a pretty considerable amount of progress was made. A lot of code was written that involved reading in, accessing, and starting to train data. At this point, a large amount of code has been written. The journal paper also had a good amount of work done to it. The presentation slides have also been made. \n",
    "\n",
    "2) The only thing we did not meet was getting enough sources for the jorunal article. We currently have two, but we would like to have around four or five sources. Other than that, we said in our last report that the code would be finished. Sadly, it has not been completed, but we are close. \n",
    "\n",
    "3) Main deliverable:\n",
    "\n",
    "    - Code: We are really hoping to complete the code this week so that the journal paper can receive a lot of content and would make the slides easier to make. Dylan and Emily will continue to code, neaten up the dataset, and ensure the model is effective.\n",
    "    - Paper: Tyler is stepping in the help Anthony write the journal article. They are hoping the code completion will allow us to write a lot of more the paper.\n",
    "    - Demo + Presentation: Tyler started the presentation slides this past week and made all needed slides as a foundation. We think it would be a good idea for Tyler and either Anthony or Munayfah to work on the presentation and either Dylan or Emily to start the demo.\n",
    "    - Milestones: Munayfah will continue to write the milestones and Tyler will step in as added to either proof-read content or turn in the milestone should technical problems occur."
   ]
  },
  {
   "cell_type": "markdown",
   "metadata": {},
   "source": [
    "Sixth Milestone "
   ]
  },
  {
   "cell_type": "markdown",
   "metadata": {},
   "source": [
    "04/19/21"
   ]
  },
  {
   "cell_type": "markdown",
   "metadata": {},
   "source": [
    "Deliverable |Percent Complete |Estimated Completion Date | Percent Complete by Next Milestone\n",
    "------------|-----------------|--------------------------|-----------------------------------\n",
    "Code|95%|Apr 20|100%\n",
    "Paper|30%|Apr 21|80%\n",
    "Demo|0%|May 3|25%\n",
    "Presentation|40%|May 3|60%\n",
    "\n",
    "1) A decent amount more of the paper has been completed after a collaboration of contribution. We’ve also gotten a model trained and uploaded the results to GitHub on Friday. We had to hand label more data to use for validation and testing over the weekend so we in the process of making it so the network can read in the data and split it into training, validation, and test sets. Currently, we have something that works right now but what we're hoping to do is have that simple CNN and then build a second one that’s the same but uses transfer learning like they did in our main source for our journal article. We're doing this so we can have more intriacate results because this will allow us to make comparisons.\n",
    "\n",
    "2) Even though in our last milestone we said that our paper would have been largely written, we were unable to make a large amount of progress on it. This is because we had to hand-label our data and our decision to build a second model that utilizes transfer learning. While this is a setback, these decisions of ours will hopefully allow us to write a better methodology section that will precede a more detailed results section. Other than that, we wish we could have written more of the paper, but we will be doing so as soon as the code is done and well-written.\n",
    "\n",
    "\n",
    "3) Main deliverable:\n",
    "\n",
    "    - Code: We are really hoping to complete the code this week (for real this time) so that the journal paper can receive a lot of content and would make the slides easier to make. Dylan and Emily will continue to code, neaten up the dataset, and ensure the model is effective. We are just about done with the code, though! \n",
    "    - Paper: Tyler and Anthony will continue to work on the paper and may collaborate with Emily and Dylan so that everyone will have an easier time writing the methodology and results section. \n",
    "    - Demo + Presentation: After writing more the paper, Tyler will be able to add more to the slides. Most likely, Emily and Dylan will put together the demo and we will determine who will present the demo along with what needs to be included in it. \n",
    "    - Milestones: Tyler has had to take over the milestones. He has submitted the last several milestones and will most likely continue to submit the rest. "
   ]
  },
  {
   "cell_type": "markdown",
   "metadata": {},
   "source": [
    "Sixth Milestone"
   ]
  },
  {
   "cell_type": "markdown",
   "metadata": {},
   "source": [
    "04/26/2021"
   ]
  },
  {
   "cell_type": "markdown",
   "metadata": {},
   "source": [
    "Deliverable |Percent Complete |Estimated Completion Date | Percent Complete by Next Milestone\n",
    "------------|-----------------|--------------------------|-----------------------------------\n",
    "Code|100%|Apr 21|100%\n",
    "Paper|100%|Apr 23|100%\n",
    "Demo|100%|May 3|100%\n",
    "Presentation|50%|May 3|100%\n",
    "\n",
    "1) We've gotten a lot done. We successfully completed and turned in the paper along with completing the demo. The reason why we went ahead and did the demo is so that we could use a good amount of it to help us some in our writing of the methodology section. Also, we have finished the entirety of the the code (although we still may go back and tweak various things just to be safe), The code was completed early for the same reasons as the demo was. As of now, after turning in this milestone, our repository will be fully updated with the exception of the presentastion.\n",
    "\n",
    "2) If there's anything we didn't do, it's completing the entire presentation. However, last week had a lot of work going as the paper was due, so we decided to complete everything else instead of the presentation. We're not super sure if we should count this though because the presentation's due date is still a week out.\n",
    "\n",
    "3) Main deliverable:\n",
    "\n",
    "    - Code: Code is complete. Emily and Dylan did an excellent job.\n",
    "    - Paper: Paper is complete. Anthony, Tyler, and Emily all completed it.\n",
    "    - Demo + Presentation: Demo is complete as Emily did great. As far as the presentation goes, Dylan will step in to help with some slides to ensure that the slides about the models themselves are correct and have good info while Tyler completes the rest of the presentation.\n",
    "    - Milestones: Milestones are complete. Tyler completed just about all the milestones along with bookkeeping. Since there are no milestones left, *everyone* will come together to record the presentation and ensure that we all did our roles well and that we will end up with a solid, recorded presentation.\n"
   ]
  }
 ],
 "metadata": {
  "colab": {
   "collapsed_sections": [],
   "name": "Project_Milestones.ipynb",
   "provenance": []
  },
  "kernelspec": {
   "display_name": "Python 3",
   "language": "python",
   "name": "python3"
  },
  "language_info": {
   "codemirror_mode": {
    "name": "ipython",
    "version": 3
   },
   "file_extension": ".py",
   "mimetype": "text/x-python",
   "name": "python",
   "nbconvert_exporter": "python",
   "pygments_lexer": "ipython3",
   "version": "3.8.6"
  }
 },
 "nbformat": 4,
 "nbformat_minor": 5
}
