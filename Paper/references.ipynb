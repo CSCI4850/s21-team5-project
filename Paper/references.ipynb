{
 "cells": [
  {
   "cell_type": "raw",
   "metadata": {},
   "source": [
    "@article{b1,\n",
    "  author = \"Adam W. Harley, Alex Ufkes, and Konstantinos G. Derpanis\",\n",
    "   title = \"Evaluation of Deep Convolutional Nets for Document Image Classification and Retrieval\"\n",
    "}"
   ]
  },
  {
   "cell_type": "raw",
   "metadata": {},
   "source": [
    "@article{b2,\n",
    "  author = \"Y. Cheng, Z. Ye and M. Wang, Q. Zhang\",\n",
    "   title = \"DOCUMENT CLASSIFICATION BASED ON CONVOLUTIONAL NEURAL NETWORK AND HIERARCHICAL ATTENTION NETWORK\",\n",
    " journal = \"Invent. Math.\",\n",
    "    year = 2018\n",
    "}"
   ]
  },
  {
   "cell_type": "raw",
   "metadata": {},
   "source": [
    "@article{b3,\n",
    "  author = \"Adam Parusi\\'nski and Piotr Pragacz\",\n",
    "   title = \"DeepDocClassifier: Document Classification with Deep Convolutional Neural Network\",\n",
    " journal = \"2015 13th International Conference on Document Analysis and Recognition (ICDAR)\",\n",
    "    year = 2015\n",
    "}"
   ]
  },
  {
   "cell_type": "raw",
   "metadata": {},
   "source": [
    "@unpublished{b4,\n",
    "    author = \"Jason Brownlee\",\n",
    "    title = \"Transfer Learning in Keras with Computer Vision Models\"\n",
    "}"
   ]
  },
  {
   "cell_type": "raw",
   "metadata": {},
   "source": [
    "@article{b5,\n",
    "    author = \"Joshua L. Phillips\",\n",
    "    title = \"Open Lab 6 - Convolution Neural Networks\",\n",
    "    year = 2021\n",
    "}"
   ]
  },
  {
   "cell_type": "raw",
   "metadata": {},
   "source": [
    "@article{b6,\n",
    "    author = \"Muneeb ul Hassan\",\n",
    "    title = \"VGG16 – Convolutional Network for Classification and Detection\",\n",
    "    year = 2018\n",
    "}"
   ]
  }
 ],
 "metadata": {
  "kernelspec": {
   "display_name": "Python 3",
   "language": "python",
   "name": "python3"
  },
  "language_info": {
   "codemirror_mode": {
    "name": "ipython",
    "version": 3
   },
   "file_extension": ".py",
   "mimetype": "text/x-python",
   "name": "python",
   "nbconvert_exporter": "python",
   "pygments_lexer": "ipython3",
   "version": "3.8.6"
  }
 },
 "nbformat": 4,
 "nbformat_minor": 4
}
