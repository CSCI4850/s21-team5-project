{
 "cells": [
  {
   "cell_type": "markdown",
   "metadata": {},
   "source": [
    "TEAM 5 PROJECT PROPOSAL"
   ]
  },
  {
   "cell_type": "code",
   "execution_count": null,
   "metadata": {},
   "outputs": [],
   "source": [
    "Roster:\n",
    "    \n",
    "Tyler Christian\n",
    "Emily Turner\n",
    "Dylan Fox\n",
    "Anthony Ghebranious\n",
    "Munayfah Albaqami"
   ]
  },
  {
   "cell_type": "markdown",
   "metadata": {},
   "source": [
    "Goals and Intentions\n",
    "\n",
    "The focus of this project would be to be able to take an image of an invoice in the form of a .pdf or .jpg and be able to extract valuable information to be used in later analytics. The key values that this project would be looking to find would be: company name that sent the invoice, company address, date of invoice, payment due date, item numbers, item descriptions, and cost of items. We would like to create a neural network that will be able to detect these items in an invoice and categorize them into the form of a .csv for better analytical analysis such as average price for product number and common products that are typically sold together. This program is aimed to making the task of data entry faster and more efficient due to the fact that it will go straight from image to database."
   ]
  },
  {
   "cell_type": "markdown",
   "metadata": {},
   "source": [
    "What will the network do and how can we make that happen?\n",
    "\n",
    "The specific role that the neural network will play in this program would be to learn the different categories and how to detect them in an image. We believe this can be accomplished by utilizing keras ability to dissect images into a grid format which would allow us to possible be able to analyze the invoices by words and phrases to better categorize them. We think it would also be helpful to use preset data at the end of the network to better train the inputs coming in. "
   ]
  },
  {
   "cell_type": "markdown",
   "metadata": {},
   "source": [
    "Sources / Datasets\n",
    "\n",
    "There are two possible datasets that we are looking at. One is provided by SouravG94 from GitHub and the other would be from data.gov.uk. The SouravG94 dataset would be beneficial to use because it has the formatting of invoices that we would want, downside being that the images are relatively blurry and the invoices are not real-world invoices they are just randomly generated invoices with empty data columns. The second dataset provided by data.gov.uk is already formatted in columns of how we would want the invoices to be sorted but may be useful for finding commonalities within the data using the tidyverse library or being able to see commonalties with ggplot. It would also help with being able to check what a part number, description, etcetera to give the network a better understanding on what the categories will look like in the end."
   ]
  },
  {
   "cell_type": "markdown",
   "metadata": {},
   "source": [
    "The testing protocol for this project will more than likely be one of just verifying if an address looks like an address or a business name is like to be that. Once we get past the portion of recognition then we can use SGD to see if the inputs are falling into an average line or if the data points are spread too far apart and then make adjustments from there. We will use the dense data set of data.gov.uk to give our neural network a basis of what to look for and then move to the more complex image recognition of the dataset obtained from SouravG94 to gain the precision and ultimate goal of the projectTesting."
   ]
  },
  {
   "cell_type": "markdown",
   "metadata": {},
   "source": [
    "Sources of Datasets\n",
    "\n",
    "SouravG94. Souravg94/Invoice-Dataset. github.com/SouravG94/invoice-dataset. \n",
    "\n",
    "\n",
    "“NHS Oxfordshire CCG Payments over £25,000 - Dataset by Datagov-Uk.” Data.world, 17 Jan. 2020, data.world/datagov-uk/78239e1d-ce93-466a-a99e-09942bdd916d/workspace/file?filename=april-20-2016-11.pdf. \n"
   ]
  },
  {
   "cell_type": "code",
   "execution_count": null,
   "metadata": {},
   "outputs": [],
   "source": []
  }
 ],
 "metadata": {
  "kernelspec": {
   "display_name": "Python 3",
   "language": "python",
   "name": "python3"
  },
  "language_info": {
   "codemirror_mode": {
    "name": "ipython",
    "version": 3
   },
   "file_extension": ".py",
   "mimetype": "text/x-python",
   "name": "python",
   "nbconvert_exporter": "python",
   "pygments_lexer": "ipython3",
   "version": "3.8.6"
  }
 },
 "nbformat": 4,
 "nbformat_minor": 4
}
