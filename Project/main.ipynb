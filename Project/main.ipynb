{
 "cells": [
  {
   "cell_type": "code",
   "execution_count": 2,
   "id": "filled-charm",
   "metadata": {},
   "outputs": [],
   "source": [
    "from tensorflow.keras.applications.xception import Xception\n",
    "from tensorflow.keras.preprocessing import image\n",
    "from tensorflow.keras.applications.xception import preprocess_input, decode_predictions\n",
    "from keras.preprocessing import image\n",
    "from keras.applications.imagenet_utils import preprocess_input"
   ]
  },
  {
   "cell_type": "code",
   "execution_count": 3,
   "id": "prompt-sending",
   "metadata": {},
   "outputs": [],
   "source": [
    "import pandas \n",
    "import tensorflow.keras as keras\n",
    "from tensorflow.keras import backend as K\n",
    "import numpy as np\n",
    "from IPython.display import display\n",
    "import matplotlib.pyplot as plt\n",
    "from mpl_toolkits.mplot3d import axes3d \n",
    "%matplotlib inline"
   ]
  },
  {
   "cell_type": "code",
   "execution_count": 4,
   "id": "imposed-leeds",
   "metadata": {},
   "outputs": [
    {
     "data": {
      "text/plain": [
       "(1250, 224, 224, 3)"
      ]
     },
     "execution_count": 4,
     "metadata": {},
     "output_type": "execute_result"
    }
   ],
   "source": [
    "def grab_image(img_path):\n",
    "    img = image.load_img(img_path, target_size=(224, 224)) \n",
    "    x = image.img_to_array(img)\n",
    "    x = np.expand_dims(x, axis=0)\n",
    "    x = preprocess_input(x)\n",
    "    return x\n",
    "\n",
    "# Grab training images\n",
    "image_data = np.concatenate( \n",
    "    [grab_image('Project_images/image%d.tif'%(i))\n",
    "    for i in range(1,1251)]) \n",
    "image_data.shape"
   ]
  },
  {
   "cell_type": "code",
   "execution_count": 5,
   "id": "assigned-spencer",
   "metadata": {},
   "outputs": [
    {
     "name": "stdout",
     "output_type": "stream",
     "text": [
      "x_train: (1050, 224, 224, 3)\n",
      "x_test (200, 224, 224, 3)\n"
     ]
    }
   ],
   "source": [
    "# Split image data into training and testing sets (84%, 16%)\n",
    "x_train = image_data[0:1050]\n",
    "x_test = image_data[1050:1250]\n",
    "\n",
    "print(\"x_train:\",x_train.shape)\n",
    "print(\"x_test\",x_test.shape)"
   ]
  },
  {
   "cell_type": "code",
   "execution_count": 6,
   "id": "vertical-proxy",
   "metadata": {},
   "outputs": [
    {
     "data": {
      "text/plain": [
       "(1250, 16)"
      ]
     },
     "metadata": {},
     "output_type": "display_data"
    },
    {
     "data": {
      "text/plain": [
       "array([[0., 0., 0., 0., 0., 0., 0., 0., 1., 0., 0., 0., 0., 0., 0., 0.],\n",
       "       [0., 0., 0., 0., 0., 0., 0., 0., 1., 0., 0., 0., 0., 0., 0., 0.],\n",
       "       [0., 0., 0., 0., 0., 0., 0., 0., 0., 1., 0., 0., 0., 0., 0., 0.],\n",
       "       [0., 0., 0., 0., 0., 0., 0., 0., 0., 1., 0., 0., 0., 0., 0., 0.],\n",
       "       [0., 1., 0., 0., 0., 0., 0., 0., 0., 0., 0., 0., 0., 0., 0., 0.],\n",
       "       [0., 0., 0., 0., 0., 0., 0., 0., 0., 0., 0., 0., 0., 0., 0., 1.],\n",
       "       [0., 0., 0., 0., 0., 0., 0., 0., 0., 0., 0., 1., 0., 0., 0., 0.],\n",
       "       [1., 0., 0., 0., 0., 0., 0., 0., 0., 0., 0., 0., 0., 0., 0., 0.],\n",
       "       [1., 0., 0., 0., 0., 0., 0., 0., 0., 0., 0., 0., 0., 0., 0., 0.],\n",
       "       [0., 0., 0., 0., 0., 1., 0., 0., 0., 0., 0., 0., 0., 0., 0., 0.]],\n",
       "      dtype=float32)"
      ]
     },
     "metadata": {},
     "output_type": "display_data"
    }
   ],
   "source": [
    "# Read in data labels\n",
    "label_data = np.loadtxt('Project_labels.csv')\n",
    "\n",
    "# One-hot encode class vector [0-15] \n",
    "label_data = keras.utils.to_categorical(label_data)\n",
    "display(label_data.shape)\n",
    "display(label_data[0:10])"
   ]
  },
  {
   "cell_type": "code",
   "execution_count": 7,
   "id": "pretty-roller",
   "metadata": {},
   "outputs": [
    {
     "name": "stdout",
     "output_type": "stream",
     "text": [
      "y_train: (1050, 16)\n",
      "y_test (200, 16)\n"
     ]
    }
   ],
   "source": [
    "# Split label data into training and testing sets (84% 16%)\n",
    "y_train = label_data[0:1050]\n",
    "y_test = label_data[1050:1250]\n",
    "print(\"y_train:\",y_train.shape)\n",
    "print(\"y_test\",y_test.shape)"
   ]
  },
  {
   "cell_type": "code",
   "execution_count": 8,
   "id": "greenhouse-fundamentals",
   "metadata": {},
   "outputs": [
    {
     "data": {
      "text/plain": [
       "(1050, 224, 224, 3)"
      ]
     },
     "metadata": {},
     "output_type": "display_data"
    },
    {
     "data": {
      "text/plain": [
       "(1050, 16)"
      ]
     },
     "metadata": {},
     "output_type": "display_data"
    },
    {
     "data": {
      "text/plain": [
       "(200, 224, 224, 3)"
      ]
     },
     "metadata": {},
     "output_type": "display_data"
    },
    {
     "data": {
      "text/plain": [
       "(200, 16)"
      ]
     },
     "metadata": {},
     "output_type": "display_data"
    }
   ],
   "source": [
    "## Standardize the -input- data between [-1.0,1.0] (real)\n",
    "## instead of the default 0-255 (integer)\n",
    "x_train = x_train.astype('float32')/255.\n",
    "x_test = x_test.astype('float32')/255.\n",
    "\n",
    "display(x_train.shape)\n",
    "display(y_train.shape)\n",
    "display(x_test.shape)\n",
    "display(y_test.shape)"
   ]
  },
  {
   "cell_type": "code",
   "execution_count": 9,
   "id": "continuous-monitoring",
   "metadata": {},
   "outputs": [
    {
     "name": "stdout",
     "output_type": "stream",
     "text": [
      "Model: \"sequential\"\n",
      "_________________________________________________________________\n",
      "Layer (type)                 Output Shape              Param #   \n",
      "=================================================================\n",
      "conv2d (Conv2D)              (None, 219, 219, 36)      3924      \n",
      "_________________________________________________________________\n",
      "conv2d_1 (Conv2D)            (None, 214, 214, 40)      51880     \n",
      "_________________________________________________________________\n",
      "max_pooling2d (MaxPooling2D) (None, 107, 107, 40)      0         \n",
      "_________________________________________________________________\n",
      "dropout (Dropout)            (None, 107, 107, 40)      0         \n",
      "_________________________________________________________________\n",
      "flatten (Flatten)            (None, 457960)            0         \n",
      "_________________________________________________________________\n",
      "dense (Dense)                (None, 40)                18318440  \n",
      "_________________________________________________________________\n",
      "dropout_1 (Dropout)          (None, 40)                0         \n",
      "_________________________________________________________________\n",
      "dense_1 (Dense)              (None, 16)                656       \n",
      "=================================================================\n",
      "Total params: 18,374,900\n",
      "Trainable params: 18,374,900\n",
      "Non-trainable params: 0\n",
      "_________________________________________________________________\n"
     ]
    }
   ],
   "source": [
    "# Build model\n",
    "model=keras.Sequential()\n",
    "\n",
    "model.add(keras.layers.Conv2D(36,kernel_size=(6,6),\n",
    "                              activation='relu',input_shape=[x_train.shape[1],\n",
    "                                                             x_train.shape[2],\n",
    "                                                             x_train.shape[3]]))\n",
    "model.add(keras.layers.Conv2D(40,(6,6),activation='relu'))\n",
    "model.add(keras.layers.MaxPooling2D(pool_size=(2,2)))\n",
    "model.add(keras.layers.Dropout(0.25))\n",
    "model.add(keras.layers.Flatten())\n",
    "model.add(keras.layers.Dense(40,activation='relu'))\n",
    "model.add(keras.layers.Dropout(0.5))\n",
    "model.add(keras.layers.Dense(y_train.shape[1],activation='softmax'))\n",
    "\n",
    "model.compile(loss = keras.losses.CategoricalCrossentropy(),\n",
    "              optimizer = keras.optimizers.Adam(),\n",
    "              metrics=[keras.metrics.CategoricalAccuracy()])\n",
    "model.summary()"
   ]
  },
  {
   "cell_type": "code",
   "execution_count": 10,
   "id": "naughty-superintendent",
   "metadata": {},
   "outputs": [
    {
     "name": "stdout",
     "output_type": "stream",
     "text": [
      "Epoch 1/10\n",
      "42/42 [==============================] - 172s 4s/step - loss: 5.4399 - categorical_accuracy: 0.0827 - val_loss: 2.7569 - val_categorical_accuracy: 0.1476\n",
      "Epoch 2/10\n",
      "42/42 [==============================] - 173s 4s/step - loss: 2.7205 - categorical_accuracy: 0.1389 - val_loss: 2.7023 - val_categorical_accuracy: 0.1381\n",
      "Epoch 3/10\n",
      "42/42 [==============================] - 167s 4s/step - loss: 2.5384 - categorical_accuracy: 0.2150 - val_loss: 2.7015 - val_categorical_accuracy: 0.1095\n",
      "Epoch 4/10\n",
      "42/42 [==============================] - 168s 4s/step - loss: 2.3056 - categorical_accuracy: 0.2871 - val_loss: 2.6987 - val_categorical_accuracy: 0.1190\n",
      "Epoch 5/10\n",
      "42/42 [==============================] - 179s 4s/step - loss: 2.0331 - categorical_accuracy: 0.3741 - val_loss: 2.7390 - val_categorical_accuracy: 0.1476\n",
      "Epoch 6/10\n",
      "42/42 [==============================] - 170s 4s/step - loss: 1.7188 - categorical_accuracy: 0.4610 - val_loss: 3.0541 - val_categorical_accuracy: 0.1381\n",
      "Epoch 7/10\n",
      "42/42 [==============================] - 266s 6s/step - loss: 1.3303 - categorical_accuracy: 0.5809 - val_loss: 2.9235 - val_categorical_accuracy: 0.1714\n",
      "Epoch 8/10\n",
      "42/42 [==============================] - 274s 7s/step - loss: 1.1799 - categorical_accuracy: 0.5807 - val_loss: 3.3227 - val_categorical_accuracy: 0.1714\n",
      "Epoch 9/10\n",
      "42/42 [==============================] - 273s 7s/step - loss: 0.9413 - categorical_accuracy: 0.7005 - val_loss: 3.4357 - val_categorical_accuracy: 0.1571\n",
      "Epoch 10/10\n",
      "42/42 [==============================] - 259s 6s/step - loss: 0.7454 - categorical_accuracy: 0.7644 - val_loss: 3.7419 - val_categorical_accuracy: 0.1857\n"
     ]
    }
   ],
   "source": [
    "#Train model\n",
    "batch_size = 20\n",
    "epochs = 10\n",
    "history = model.fit(x_train, y_train,\n",
    "                    batch_size = batch_size,\n",
    "                    epochs = epochs,\n",
    "                    verbose = 1,\n",
    "                    validation_split = 0.2)"
   ]
  },
  {
   "cell_type": "code",
   "execution_count": 11,
   "id": "front-andrew",
   "metadata": {},
   "outputs": [
    {
     "name": "stdout",
     "output_type": "stream",
     "text": [
      "7/7 [==============================] - 4s 563ms/step - loss: 4.8096 - categorical_accuracy: 0.0550\n",
      "Test loss: 4.809577465057373\n",
      "Test accuracy: 0.054999999701976776\n"
     ]
    }
   ],
   "source": [
    "# Testing\n",
    "results = model.evaluate(x_test, y_test, verbose=1)\n",
    "print('Test loss:', results[0])\n",
    "print('Test accuracy:', results[1])"
   ]
  },
  {
   "cell_type": "code",
   "execution_count": 22,
   "id": "sacred-director",
   "metadata": {},
   "outputs": [
    {
     "data": {
      "image/png": "[encoded data removed]",
      "text/plain": [
       "<Figure size 432x288 with 2 Axes>"
      ]
     },
     "metadata": {
      "needs_background": "light"
     },
     "output_type": "display_data"
    }
   ],
   "source": [
    "plt.figure()\n",
    "\n",
    "# Summarize history for accuracy  \n",
    "plt.subplot(211)\n",
    "plt.plot(history.history['categorical_accuracy'])\n",
    "plt.plot(history.history['val_categorical_accuracy'])\n",
    "plt.title('model accuracy')\n",
    "plt.ylabel('accuracy')\n",
    "plt.xlabel('epoch')\n",
    "plt.legend(['training','validation'],loc='upper left')\n",
    "\n",
    "# Summarize history for loss  \n",
    "plt.subplot(212)\n",
    "plt.plot(history.history['loss'])\n",
    "plt.plot(history.history['val_loss'])\n",
    "plt.title('model loss')\n",
    "plt.ylabel('loss')\n",
    "plt.xlabel('epoch')\n",
    "plt.legend(['training','validation'],loc='upper left')\n",
    "plt.tight_layout()\n",
    "plt.show()"
   ]
  },
  {
   "cell_type": "code",
   "execution_count": 13,
   "id": "elementary-variation",
   "metadata": {
    "collapsed": true,
    "jupyter": {
     "outputs_hidden": true
    }
   },
   "outputs": [
    {
     "name": "stdout",
     "output_type": "stream",
     "text": [
      "Model: \"vgg16\"\n",
      "_________________________________________________________________\n",
      "Layer (type)                 Output Shape              Param #   \n",
      "=================================================================\n",
      "input_1 (InputLayer)         [(None, None, None, 3)]   0         \n",
      "_________________________________________________________________\n",
      "block1_conv1 (Conv2D)        (None, None, None, 64)    1792      \n",
      "_________________________________________________________________\n",
      "block1_conv2 (Conv2D)        (None, None, None, 64)    36928     \n",
      "_________________________________________________________________\n",
      "block1_pool (MaxPooling2D)   (None, None, None, 64)    0         \n",
      "_________________________________________________________________\n",
      "block2_conv1 (Conv2D)        (None, None, None, 128)   73856     \n",
      "_________________________________________________________________\n",
      "block2_conv2 (Conv2D)        (None, None, None, 128)   147584    \n",
      "_________________________________________________________________\n",
      "block2_pool (MaxPooling2D)   (None, None, None, 128)   0         \n",
      "_________________________________________________________________\n",
      "block3_conv1 (Conv2D)        (None, None, None, 256)   295168    \n",
      "_________________________________________________________________\n",
      "block3_conv2 (Conv2D)        (None, None, None, 256)   590080    \n",
      "_________________________________________________________________\n",
      "block3_conv3 (Conv2D)        (None, None, None, 256)   590080    \n",
      "_________________________________________________________________\n",
      "block3_pool (MaxPooling2D)   (None, None, None, 256)   0         \n",
      "_________________________________________________________________\n",
      "block4_conv1 (Conv2D)        (None, None, None, 512)   1180160   \n",
      "_________________________________________________________________\n",
      "block4_conv2 (Conv2D)        (None, None, None, 512)   2359808   \n",
      "_________________________________________________________________\n",
      "block4_conv3 (Conv2D)        (None, None, None, 512)   2359808   \n",
      "_________________________________________________________________\n",
      "block4_pool (MaxPooling2D)   (None, None, None, 512)   0         \n",
      "_________________________________________________________________\n",
      "block5_conv1 (Conv2D)        (None, None, None, 512)   2359808   \n",
      "_________________________________________________________________\n",
      "block5_conv2 (Conv2D)        (None, None, None, 512)   2359808   \n",
      "_________________________________________________________________\n",
      "block5_conv3 (Conv2D)        (None, None, None, 512)   2359808   \n",
      "_________________________________________________________________\n",
      "block5_pool (MaxPooling2D)   (None, None, None, 512)   0         \n",
      "=================================================================\n",
      "Total params: 14,714,688\n",
      "Trainable params: 14,714,688\n",
      "Non-trainable params: 0\n",
      "_________________________________________________________________\n"
     ]
    }
   ],
   "source": [
    "# Load the VGG16 model\n",
    "vgg16 = keras.applications.VGG16(weights='imagenet', include_top=False)\n",
    "vgg16.summary()"
   ]
  },
  {
   "cell_type": "code",
   "execution_count": 14,
   "id": "instructional-christmas",
   "metadata": {
    "collapsed": true,
    "jupyter": {
     "outputs_hidden": true
    }
   },
   "outputs": [
    {
     "name": "stdout",
     "output_type": "stream",
     "text": [
      "Model: \"model\"\n",
      "_________________________________________________________________\n",
      "Layer (type)                 Output Shape              Param #   \n",
      "=================================================================\n",
      "input_1 (InputLayer)         [(None, None, None, 3)]   0         \n",
      "_________________________________________________________________\n",
      "block1_conv1 (Conv2D)        (None, None, None, 64)    1792      \n",
      "_________________________________________________________________\n",
      "block1_conv2 (Conv2D)        (None, None, None, 64)    36928     \n",
      "_________________________________________________________________\n",
      "block1_pool (MaxPooling2D)   (None, None, None, 64)    0         \n",
      "_________________________________________________________________\n",
      "block2_conv1 (Conv2D)        (None, None, None, 128)   73856     \n",
      "_________________________________________________________________\n",
      "block2_conv2 (Conv2D)        (None, None, None, 128)   147584    \n",
      "_________________________________________________________________\n",
      "block2_pool (MaxPooling2D)   (None, None, None, 128)   0         \n",
      "_________________________________________________________________\n",
      "block3_conv1 (Conv2D)        (None, None, None, 256)   295168    \n",
      "_________________________________________________________________\n",
      "block3_conv2 (Conv2D)        (None, None, None, 256)   590080    \n",
      "_________________________________________________________________\n",
      "block3_conv3 (Conv2D)        (None, None, None, 256)   590080    \n",
      "_________________________________________________________________\n",
      "block3_pool (MaxPooling2D)   (None, None, None, 256)   0         \n",
      "_________________________________________________________________\n",
      "block4_conv1 (Conv2D)        (None, None, None, 512)   1180160   \n",
      "_________________________________________________________________\n",
      "block4_conv2 (Conv2D)        (None, None, None, 512)   2359808   \n",
      "_________________________________________________________________\n",
      "block4_conv3 (Conv2D)        (None, None, None, 512)   2359808   \n",
      "_________________________________________________________________\n",
      "block4_pool (MaxPooling2D)   (None, None, None, 512)   0         \n",
      "_________________________________________________________________\n",
      "block5_conv1 (Conv2D)        (None, None, None, 512)   2359808   \n",
      "_________________________________________________________________\n",
      "block5_conv2 (Conv2D)        (None, None, None, 512)   2359808   \n",
      "_________________________________________________________________\n",
      "block5_conv3 (Conv2D)        (None, None, None, 512)   2359808   \n",
      "_________________________________________________________________\n",
      "block5_pool (MaxPooling2D)   (None, None, None, 512)   0         \n",
      "_________________________________________________________________\n",
      "global_average_pooling2d (Gl (None, 512)               0         \n",
      "_________________________________________________________________\n",
      "dense_2 (Dense)              (None, 30)                15390     \n",
      "_________________________________________________________________\n",
      "dense_3 (Dense)              (None, 16)                496       \n",
      "=================================================================\n",
      "Total params: 14,730,574\n",
      "Trainable params: 14,730,574\n",
      "Non-trainable params: 0\n",
      "_________________________________________________________________\n"
     ]
    }
   ],
   "source": [
    "# Use the VGG16 model as a base and add our own layers onto the bottom of it\n",
    "base_model = vgg16\n",
    "\n",
    "new_model = base_model.output\n",
    "new_model=keras.layers.GlobalAveragePooling2D()(new_model)\n",
    "new_model=keras.layers.Dense(30,activation='relu')(new_model)\n",
    "new_model=keras.layers.Dense(16,activation='softmax')(new_model)\n",
    "model=keras.Model(inputs=base_model.input,outputs=new_model)\n",
    "\n",
    "model.compile(loss=keras.losses.CategoricalCrossentropy(),\n",
    "              optimizer=keras.optimizers.Adam(),\n",
    "              metrics=[keras.metrics.CategoricalAccuracy()])\n",
    "\n",
    "model.summary()"
   ]
  },
  {
   "cell_type": "code",
   "execution_count": 16,
   "id": "geological-prior",
   "metadata": {},
   "outputs": [
    {
     "name": "stdout",
     "output_type": "stream",
     "text": [
      "Epoch 1/10\n",
      "42/42 [==============================] - 684s 16s/step - loss: 2.6767 - categorical_accuracy: 0.1226 - val_loss: 2.7329 - val_categorical_accuracy: 0.1143\n",
      "Epoch 2/10\n",
      "42/42 [==============================] - 886s 21s/step - loss: 2.6507 - categorical_accuracy: 0.1310 - val_loss: 2.7170 - val_categorical_accuracy: 0.1429\n",
      "Epoch 3/10\n",
      "42/42 [==============================] - 915s 22s/step - loss: 2.6316 - categorical_accuracy: 0.1202 - val_loss: 2.6931 - val_categorical_accuracy: 0.1143\n",
      "Epoch 4/10\n",
      "42/42 [==============================] - 918s 22s/step - loss: 2.6286 - categorical_accuracy: 0.1405 - val_loss: 2.7011 - val_categorical_accuracy: 0.1143\n",
      "Epoch 5/10\n",
      "42/42 [==============================] - 896s 21s/step - loss: 2.6179 - categorical_accuracy: 0.1286 - val_loss: 2.6943 - val_categorical_accuracy: 0.1143\n",
      "Epoch 6/10\n",
      "42/42 [==============================] - 905s 22s/step - loss: 2.6067 - categorical_accuracy: 0.1440 - val_loss: 2.7381 - val_categorical_accuracy: 0.1571\n",
      "Epoch 7/10\n",
      "42/42 [==============================] - 916s 22s/step - loss: 2.5784 - categorical_accuracy: 0.1298 - val_loss: 2.6978 - val_categorical_accuracy: 0.1190\n",
      "Epoch 8/10\n",
      "42/42 [==============================] - 882s 21s/step - loss: 2.5455 - categorical_accuracy: 0.1393 - val_loss: 2.5473 - val_categorical_accuracy: 0.1667\n",
      "Epoch 9/10\n",
      "42/42 [==============================] - 863s 21s/step - loss: 2.5643 - categorical_accuracy: 0.1429 - val_loss: 2.6108 - val_categorical_accuracy: 0.1667\n",
      "Epoch 10/10\n",
      "42/42 [==============================] - 863s 21s/step - loss: 2.5073 - categorical_accuracy: 0.1571 - val_loss: 2.5115 - val_categorical_accuracy: 0.1429\n"
     ]
    }
   ],
   "source": [
    "#Train model\n",
    "batch_size = 20\n",
    "epochs = 10\n",
    "history2 = model.fit(x_train, y_train,\n",
    "                    batch_size = batch_size,\n",
    "                    epochs = epochs,\n",
    "                    verbose = 1,\n",
    "                    validation_split = 0.2)"
   ]
  },
  {
   "cell_type": "code",
   "execution_count": 17,
   "id": "perceived-wrist",
   "metadata": {},
   "outputs": [
    {
     "name": "stdout",
     "output_type": "stream",
     "text": [
      "7/7 [==============================] - 30s 4s/step - loss: 2.8653 - categorical_accuracy: 0.0400\n",
      "Test loss: 2.8652989864349365\n",
      "Test accuracy: 0.03999999910593033\n"
     ]
    }
   ],
   "source": [
    "# Testing\n",
    "results = model.evaluate(x_test, y_test, verbose=1)\n",
    "print('Test loss:', results[0])\n",
    "print('Test accuracy:', results[1])"
   ]
  },
  {
   "cell_type": "code",
   "execution_count": 18,
   "id": "catholic-forge",
   "metadata": {},
   "outputs": [
    {
     "data": {
      "image/png": "[encoded data removed]",
      "text/plain": [
       "<Figure size 432x288 with 2 Axes>"
      ]
     },
     "metadata": {
      "needs_background": "light"
     },
     "output_type": "display_data"
    }
   ],
   "source": [
    "plt.figure()\n",
    "\n",
    "# Summarize history for accuracy  \n",
    "plt.subplot(211)\n",
    "plt.plot(history2.history['categorical_accuracy'])\n",
    "plt.plot(history2.history['val_categorical_accuracy'])\n",
    "plt.title('model accuracy')\n",
    "plt.ylabel('accuracy')\n",
    "plt.xlabel('epoch')\n",
    "plt.legend(['training','validation'],loc='upper left')\n",
    "\n",
    "# Summarize history for loss  \n",
    "plt.subplot(212)\n",
    "plt.plot(history2.history['loss'])\n",
    "plt.plot(history2.history['val_loss'])\n",
    "plt.title('model loss')\n",
    "plt.ylabel('loss')\n",
    "plt.xlabel('epoch')\n",
    "plt.legend(['training','validation'],loc='upper left')\n",
    "plt.tight_layout()\n",
    "plt.show()"
   ]
  },
  {
   "cell_type": "code",
   "execution_count": 21,
   "id": "qualified-southeast",
   "metadata": {},
   "outputs": [
    {
     "data": {
      "image/png": "[encoded data removed]",
      "text/plain": [
       "<Figure size 432x288 with 2 Axes>"
      ]
     },
     "metadata": {
      "needs_background": "light"
     },
     "output_type": "display_data"
    }
   ],
   "source": [
    "plt.figure()\n",
    "\n",
    "plt.subplot(211)\n",
    "plt.plot(history.history['val_categorical_accuracy'])\n",
    "plt.plot(history2.history['val_categorical_accuracy'])\n",
    "plt.title('validation accuracy')\n",
    "plt.xlabel('epoch')\n",
    "plt.ylabel('accuracy')\n",
    "# Model 1 respresents the simple CNN \n",
    "# Model 2 represents the CNN that uses transfer learning from VGG16\n",
    "plt.legend(['model 1', 'model 2'],loc='upper left')\n",
    "\n",
    "plt.subplot(212)\n",
    "plt.plot(history.history['val_loss'])\n",
    "plt.plot(history2.history['val_loss'])\n",
    "plt.title('validation loss')\n",
    "plt.xlabel('epoch')\n",
    "plt.ylabel('loss')\n",
    "# Model 1 respresents the simple CNN \n",
    "# Model 2 represents the CNN that uses transfer learning from VGG16\n",
    "plt.legend(['model 1', 'model 2'],loc='upper left')\n",
    "plt.tight_layout()\n",
    "plt.show()"
   ]
  }
 ],
 "metadata": {
  "kernelspec": {
   "display_name": "Python 3",
   "language": "python",
   "name": "python3"
  },
  "language_info": {
   "codemirror_mode": {
    "name": "ipython",
    "version": 3
   },
   "file_extension": ".py",
   "mimetype": "text/x-python",
   "name": "python",
   "nbconvert_exporter": "python",
   "pygments_lexer": "ipython3",
   "version": "3.8.6"
  }
 },
 "nbformat": 4,
 "nbformat_minor": 5
}
