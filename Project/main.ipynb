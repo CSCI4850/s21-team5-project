{
 "cells": [
  {
   "cell_type": "code",
   "execution_count": 31,
   "id": "dried-wednesday",
   "metadata": {},
   "outputs": [],
   "source": [
    "from tensorflow.keras.applications.xception import Xception\n",
    "from tensorflow.keras.preprocessing import image\n",
    "from tensorflow.keras.applications.xception import preprocess_input, decode_predictions"
   ]
  },
  {
   "cell_type": "code",
   "execution_count": 32,
   "id": "military-preservation",
   "metadata": {},
   "outputs": [],
   "source": [
    "import pandas \n",
    "import tensorflow.keras as keras\n",
    "from tensorflow.keras import backend as K\n",
    "import numpy as np\n",
    "from IPython.display import display\n",
    "import matplotlib.pyplot as plt\n",
    "from mpl_toolkits.mplot3d import axes3d \n",
    "%matplotlib inline"
   ]
  },
  {
   "cell_type": "code",
   "execution_count": 33,
   "id": "crude-being",
   "metadata": {},
   "outputs": [],
   "source": [
    "def grab_image(img_path):\n",
    "    img = image.load_img(img_path, target_size=(299, 299)) \n",
    "    x = image.img_to_array(img)\n",
    "    x = np.expand_dims(x, axis=0)\n",
    "    x = preprocess_input(x)\n",
    "    return x"
   ]
  },
  {
   "cell_type": "code",
   "execution_count": 34,
   "id": "declared-employee",
   "metadata": {},
   "outputs": [
    {
     "data": {
      "text/plain": [
       "array([[0., 0., 0., 0., 0., 0., 0., 0., 0., 0., 0., 0., 0., 0., 0., 1.],\n",
       "       [0., 1., 0., 0., 0., 0., 0., 0., 0., 0., 0., 0., 0., 0., 0., 0.],\n",
       "       [0., 0., 0., 0., 0., 0., 0., 1., 0., 0., 0., 0., 0., 0., 0., 0.],\n",
       "       [0., 0., 0., 0., 0., 0., 0., 0., 0., 0., 1., 0., 0., 0., 0., 0.],\n",
       "       [0., 0., 0., 1., 0., 0., 0., 0., 0., 0., 0., 0., 0., 0., 0., 0.],\n",
       "       [0., 0., 0., 0., 0., 0., 0., 0., 0., 0., 0., 0., 0., 0., 1., 0.],\n",
       "       [0., 0., 0., 0., 0., 0., 0., 0., 0., 0., 0., 1., 0., 0., 0., 0.],\n",
       "       [0., 0., 0., 0., 0., 0., 0., 0., 0., 0., 0., 0., 0., 1., 0., 0.],\n",
       "       [1., 0., 0., 0., 0., 0., 0., 0., 0., 0., 0., 0., 0., 0., 0., 0.],\n",
       "       [0., 0., 1., 0., 0., 0., 0., 0., 0., 0., 0., 0., 0., 0., 0., 0.]],\n",
       "      dtype=float32)"
      ]
     },
     "execution_count": 34,
     "metadata": {},
     "output_type": "execute_result"
    }
   ],
   "source": [
    "# Load data labels here\n",
    "dataframe = pandas.read_table('Project_labels/train.txt', \n",
    "                      delim_whitespace=True, \n",
    "                      index_col=0, \n",
    "                      header=None)\n",
    "Y = np.array(dataframe)\n",
    "    \n",
    "Y = keras.utils.to_categorical(Y)\n",
    "Y.shape\n",
    "Y[0:10, ]"
   ]
  },
  {
   "cell_type": "code",
   "execution_count": 35,
   "id": "employed-surgeon",
   "metadata": {},
   "outputs": [
    {
     "name": "stdout",
     "output_type": "stream",
     "text": [
      "['imagesq/q/o/c/qoc54c00/80035521.tif', 'imagese/e/w/c/ewc23d00/513280028.tif', 'imagesw/w/b/t/wbt26e00/2053453161.tif', 'imagesm/m/k/m/mkm05e00/2040792992_2040792994.tif', 'imageso/o/e/x/oex80d00/522787731+-7732.tif', 'imagesq/q/v/t/qvt06d00/50525666-5667.tif', 'imagesr/r/l/z/rlz20d00/521107137+-7140.tif', 'imagesk/k/n/i/kni98c00/87538356_8359.tif', 'imagesm/m/q/v/mqv03f00/0011846871.tif', 'imagesf/f/o/x/fox75a00/2505168109_8112.tif', 'imagesl/l/m/r/lmr62f00/tob11616.13.tif', 'imagesj/j/c/b/jcb02d00/71388738.tif', 'imagesm/m/r/d/mrd16e00/2044400348.tif', 'imagesi/i/x/l/ixl83d00/509002680.tif', 'imagesp/p/i/u/piu62d00/80303362_3392.tif', 'imagesd/d/b/t/dbt17d00/2074444405.tif', 'imagesy/y/s/o/yso47c00/2063068018.tif', 'imagesn/n/t/y/nty14d00/507705676.tif', 'imagesx/x/y/o/xyo21e00/87777221_87777238.tif', 'imagesr/r/m/e/rme14a00/71453906.tif']\n"
     ]
    }
   ],
   "source": [
    "#df = pandas.DataFrame(dataframe)\n",
    "\n",
    "index = dataframe.index.values\n",
    "\n",
    "list_of_filenames = list(index)\n",
    "\n",
    "print(list_of_filenames[0:20])"
   ]
  },
  {
   "cell_type": "code",
   "execution_count": 37,
   "id": "ceramic-collins",
   "metadata": {},
   "outputs": [
    {
     "ename": "FileNotFoundError",
     "evalue": "[Errno 2] No such file or directory: 'imagese/e/w/c/ewc23d00/513280028.tif'",
     "output_type": "error",
     "traceback": [
      "\u001b[0;31m---------------------------------------------------------------------------\u001b[0m",
      "\u001b[0;31mFileNotFoundError\u001b[0m                         Traceback (most recent call last)",
      "\u001b[0;32m<ipython-input-37-920279fc5d46>\u001b[0m in \u001b[0;36m<module>\u001b[0;34m\u001b[0m\n\u001b[1;32m      1\u001b[0m X = np.concatenate( \n\u001b[0;32m----> 2\u001b[0;31m     [grab_image(list_of_filenames[i])\n\u001b[0m\u001b[1;32m      3\u001b[0m     for i in range(1,100)]) \n\u001b[1;32m      4\u001b[0m \u001b[0mX\u001b[0m\u001b[0;34m.\u001b[0m\u001b[0mshape\u001b[0m\u001b[0;34m\u001b[0m\u001b[0;34m\u001b[0m\u001b[0m\n",
      "\u001b[0;32m<ipython-input-37-920279fc5d46>\u001b[0m in \u001b[0;36m<listcomp>\u001b[0;34m(.0)\u001b[0m\n\u001b[1;32m      1\u001b[0m X = np.concatenate( \n\u001b[0;32m----> 2\u001b[0;31m     [grab_image(list_of_filenames[i])\n\u001b[0m\u001b[1;32m      3\u001b[0m     for i in range(1,100)]) \n\u001b[1;32m      4\u001b[0m \u001b[0mX\u001b[0m\u001b[0;34m.\u001b[0m\u001b[0mshape\u001b[0m\u001b[0;34m\u001b[0m\u001b[0;34m\u001b[0m\u001b[0m\n",
      "\u001b[0;32m<ipython-input-33-0c955e512cad>\u001b[0m in \u001b[0;36mgrab_image\u001b[0;34m(img_path)\u001b[0m\n\u001b[1;32m      1\u001b[0m \u001b[0;32mdef\u001b[0m \u001b[0mgrab_image\u001b[0m\u001b[0;34m(\u001b[0m\u001b[0mimg_path\u001b[0m\u001b[0;34m)\u001b[0m\u001b[0;34m:\u001b[0m\u001b[0;34m\u001b[0m\u001b[0;34m\u001b[0m\u001b[0m\n\u001b[0;32m----> 2\u001b[0;31m     \u001b[0mimg\u001b[0m \u001b[0;34m=\u001b[0m \u001b[0mimage\u001b[0m\u001b[0;34m.\u001b[0m\u001b[0mload_img\u001b[0m\u001b[0;34m(\u001b[0m\u001b[0mimg_path\u001b[0m\u001b[0;34m,\u001b[0m \u001b[0mtarget_size\u001b[0m\u001b[0;34m=\u001b[0m\u001b[0;34m(\u001b[0m\u001b[0;36m299\u001b[0m\u001b[0;34m,\u001b[0m \u001b[0;36m299\u001b[0m\u001b[0;34m)\u001b[0m\u001b[0;34m)\u001b[0m\u001b[0;34m\u001b[0m\u001b[0;34m\u001b[0m\u001b[0m\n\u001b[0m\u001b[1;32m      3\u001b[0m     \u001b[0mx\u001b[0m \u001b[0;34m=\u001b[0m \u001b[0mimage\u001b[0m\u001b[0;34m.\u001b[0m\u001b[0mimg_to_array\u001b[0m\u001b[0;34m(\u001b[0m\u001b[0mimg\u001b[0m\u001b[0;34m)\u001b[0m\u001b[0;34m\u001b[0m\u001b[0;34m\u001b[0m\u001b[0m\n\u001b[1;32m      4\u001b[0m     \u001b[0mx\u001b[0m \u001b[0;34m=\u001b[0m \u001b[0mnp\u001b[0m\u001b[0;34m.\u001b[0m\u001b[0mexpand_dims\u001b[0m\u001b[0;34m(\u001b[0m\u001b[0mx\u001b[0m\u001b[0;34m,\u001b[0m \u001b[0maxis\u001b[0m\u001b[0;34m=\u001b[0m\u001b[0;36m0\u001b[0m\u001b[0;34m)\u001b[0m\u001b[0;34m\u001b[0m\u001b[0;34m\u001b[0m\u001b[0m\n\u001b[1;32m      5\u001b[0m     \u001b[0mx\u001b[0m \u001b[0;34m=\u001b[0m \u001b[0mpreprocess_input\u001b[0m\u001b[0;34m(\u001b[0m\u001b[0mx\u001b[0m\u001b[0;34m)\u001b[0m\u001b[0;34m\u001b[0m\u001b[0;34m\u001b[0m\u001b[0m\n",
      "\u001b[0;32m/opt/conda/lib/python3.8/site-packages/tensorflow/python/keras/preprocessing/image.py\u001b[0m in \u001b[0;36mload_img\u001b[0;34m(path, grayscale, color_mode, target_size, interpolation)\u001b[0m\n\u001b[1;32m    297\u001b[0m       \u001b[0mValueError\u001b[0m\u001b[0;34m:\u001b[0m \u001b[0;32mif\u001b[0m \u001b[0minterpolation\u001b[0m \u001b[0mmethod\u001b[0m \u001b[0;32mis\u001b[0m \u001b[0;32mnot\u001b[0m \u001b[0msupported\u001b[0m\u001b[0;34m.\u001b[0m\u001b[0;34m\u001b[0m\u001b[0;34m\u001b[0m\u001b[0m\n\u001b[1;32m    298\u001b[0m   \"\"\"\n\u001b[0;32m--> 299\u001b[0;31m   return image.load_img(path, grayscale=grayscale, color_mode=color_mode,\n\u001b[0m\u001b[1;32m    300\u001b[0m                         target_size=target_size, interpolation=interpolation)\n\u001b[1;32m    301\u001b[0m \u001b[0;34m\u001b[0m\u001b[0m\n",
      "\u001b[0;32m/opt/conda/lib/python3.8/site-packages/keras_preprocessing/image/utils.py\u001b[0m in \u001b[0;36mload_img\u001b[0;34m(path, grayscale, color_mode, target_size, interpolation)\u001b[0m\n\u001b[1;32m    111\u001b[0m         raise ImportError('Could not import PIL.Image. '\n\u001b[1;32m    112\u001b[0m                           'The use of `load_img` requires PIL.')\n\u001b[0;32m--> 113\u001b[0;31m     \u001b[0;32mwith\u001b[0m \u001b[0mopen\u001b[0m\u001b[0;34m(\u001b[0m\u001b[0mpath\u001b[0m\u001b[0;34m,\u001b[0m \u001b[0;34m'rb'\u001b[0m\u001b[0;34m)\u001b[0m \u001b[0;32mas\u001b[0m \u001b[0mf\u001b[0m\u001b[0;34m:\u001b[0m\u001b[0;34m\u001b[0m\u001b[0;34m\u001b[0m\u001b[0m\n\u001b[0m\u001b[1;32m    114\u001b[0m         \u001b[0mimg\u001b[0m \u001b[0;34m=\u001b[0m \u001b[0mpil_image\u001b[0m\u001b[0;34m.\u001b[0m\u001b[0mopen\u001b[0m\u001b[0;34m(\u001b[0m\u001b[0mio\u001b[0m\u001b[0;34m.\u001b[0m\u001b[0mBytesIO\u001b[0m\u001b[0;34m(\u001b[0m\u001b[0mf\u001b[0m\u001b[0;34m.\u001b[0m\u001b[0mread\u001b[0m\u001b[0;34m(\u001b[0m\u001b[0;34m)\u001b[0m\u001b[0;34m)\u001b[0m\u001b[0;34m)\u001b[0m\u001b[0;34m\u001b[0m\u001b[0;34m\u001b[0m\u001b[0m\n\u001b[1;32m    115\u001b[0m         \u001b[0;32mif\u001b[0m \u001b[0mcolor_mode\u001b[0m \u001b[0;34m==\u001b[0m \u001b[0;34m'grayscale'\u001b[0m\u001b[0;34m:\u001b[0m\u001b[0;34m\u001b[0m\u001b[0;34m\u001b[0m\u001b[0m\n",
      "\u001b[0;31mFileNotFoundError\u001b[0m: [Errno 2] No such file or directory: 'imagese/e/w/c/ewc23d00/513280028.tif'"
     ]
    }
   ],
   "source": [
    "X = np.concatenate( \n",
    "    [grab_image(list_of_filenames[i])\n",
    "    for i in range(1,100)]) \n",
    "X.shape"
   ]
  },
  {
   "cell_type": "code",
   "execution_count": 196,
   "id": "transparent-payday",
   "metadata": {},
   "outputs": [
    {
     "name": "stdout",
     "output_type": "stream",
     "text": [
      "Model: \"sequential_53\"\n",
      "_________________________________________________________________\n",
      "Layer (type)                 Output Shape              Param #   \n",
      "=================================================================\n",
      "conv2d_106 (Conv2D)          (None, 95, 95, 36)        3924      \n",
      "_________________________________________________________________\n",
      "conv2d_107 (Conv2D)          (None, 90, 90, 65)        84305     \n",
      "_________________________________________________________________\n",
      "max_pooling2d_53 (MaxPooling (None, 45, 45, 65)        0         \n",
      "_________________________________________________________________\n",
      "dropout_106 (Dropout)        (None, 45, 45, 65)        0         \n",
      "_________________________________________________________________\n",
      "flatten_53 (Flatten)         (None, 131625)            0         \n",
      "_________________________________________________________________\n",
      "dense_106 (Dense)            (None, 65)                8555690   \n",
      "_________________________________________________________________\n",
      "dropout_107 (Dropout)        (None, 65)                0         \n",
      "_________________________________________________________________\n",
      "dense_107 (Dense)            (None, 2)                 132       \n",
      "=================================================================\n",
      "Total params: 8,644,051\n",
      "Trainable params: 8,644,051\n",
      "Non-trainable params: 0\n",
      "_________________________________________________________________\n"
     ]
    }
   ],
   "source": [
    "#Build model\n",
    "model=keras.Sequential()\n",
    "# Note the input size (there is only one channel - intensity)\n",
    "# these images... if you are using color images, your would\n",
    "# need to set the last dimension of the input_shape to -3-\n",
    "# above and this would carry over into this cell...\n",
    "model.add(keras.layers.Conv2D(36,kernel_size=(6,6),\n",
    "                              activation='relu',input_shape=[X.shape[1],\n",
    "                                                             X.shape[2],\n",
    "                                                             X.shape[3]]))\n",
    "model.add(keras.layers.Conv2D(65,(6,6),activation='relu'))\n",
    "model.add(keras.layers.MaxPooling2D(pool_size=(2,2)))\n",
    "model.add(keras.layers.Dropout(0.25))\n",
    "model.add(keras.layers.Flatten())\n",
    "model.add(keras.layers.Dense(65,activation='relu'))\n",
    "model.add(keras.layers.Dropout(0.5))\n",
    "model.add(keras.layers.Dense(Y.shape[1],activation='softmax'))\n",
    "\n",
    "model.compile(loss=keras.losses.CategoricalCrossentropy(),\n",
    "              optimizer=keras.optimizers.Adam(),\n",
    "              metrics=[keras.metrics.CategoricalAccuracy()])\n",
    "model.summary()"
   ]
  },
  {
   "cell_type": "code",
   "execution_count": 197,
   "id": "blessed-spice",
   "metadata": {},
   "outputs": [
    {
     "name": "stdout",
     "output_type": "stream",
     "text": [
      "Epoch 1/10\n",
      "5/5 [==============================] - 6s 1s/step - loss: 1.5818 - categorical_accuracy: 0.5092\n",
      "Epoch 2/10\n",
      "5/5 [==============================] - 5s 1s/step - loss: 0.6875 - categorical_accuracy: 0.6147\n",
      "Epoch 3/10\n",
      "5/5 [==============================] - 5s 979ms/step - loss: 0.6331 - categorical_accuracy: 0.6582\n",
      "Epoch 4/10\n",
      "5/5 [==============================] - 5s 968ms/step - loss: 0.5592 - categorical_accuracy: 0.6946\n",
      "Epoch 5/10\n",
      "5/5 [==============================] - 5s 949ms/step - loss: 0.4319 - categorical_accuracy: 0.7868\n",
      "Epoch 6/10\n",
      "5/5 [==============================] - 5s 1s/step - loss: 0.3136 - categorical_accuracy: 0.9013\n",
      "Epoch 7/10\n",
      "5/5 [==============================] - 5s 932ms/step - loss: 0.1868 - categorical_accuracy: 0.9549\n",
      "Epoch 8/10\n",
      "5/5 [==============================] - 5s 1s/step - loss: 0.1354 - categorical_accuracy: 0.9582\n",
      "Epoch 9/10\n",
      "5/5 [==============================] - 5s 977ms/step - loss: 0.0733 - categorical_accuracy: 0.9885\n",
      "Epoch 10/10\n",
      "5/5 [==============================] - 5s 960ms/step - loss: 0.0294 - categorical_accuracy: 1.0000\n"
     ]
    }
   ],
   "source": [
    "#Train model\n",
    "batch_size = 20\n",
    "epochs = 10\n",
    "history = model.fit(X, Y,\n",
    "                    batch_size = batch_size,\n",
    "                    epochs = epochs,\n",
    "                    verbose = 1)"
   ]
  },
  {
   "cell_type": "code",
   "execution_count": 200,
   "id": "honest-diamond",
   "metadata": {},
   "outputs": [
    {
     "data": {
      "image/png": "[encoded data removed]",
      "text/plain": [
       "<Figure size 432x288 with 2 Axes>"
      ]
     },
     "metadata": {
      "needs_background": "light"
     },
     "output_type": "display_data"
    }
   ],
   "source": [
    "plt.figure()\n",
    "\n",
    "# summarize history for accuracy  \n",
    "plt.subplot(211)\n",
    "plt.plot(history.history['categorical_accuracy'])\n",
    "plt.plot(history.history['val_categorical_accuracy'])\n",
    "plt.title('model accuracy')\n",
    "plt.ylabel('accuracy')\n",
    "plt.xlabel('epoch')\n",
    "plt.legend(['training','validation'],loc='upper left')\n",
    "\n",
    "# summarize history for loss  \n",
    "plt.subplot(212)\n",
    "plt.plot(history.history['loss'])\n",
    "plt.plot(history.history['val_loss'])\n",
    "plt.title('model loss')\n",
    "plt.ylabel('loss')\n",
    "plt.xlabel('epoch')\n",
    "plt.legend(['training','validation'],loc='upper left')\n",
    "plt.tight_layout()\n",
    "plt.show()"
   ]
  }
 ],
 "metadata": {
  "kernelspec": {
   "display_name": "Python 3",
   "language": "python",
   "name": "python3"
  },
  "language_info": {
   "codemirror_mode": {
    "name": "ipython",
    "version": 3
   },
   "file_extension": ".py",
   "mimetype": "text/x-python",
   "name": "python",
   "nbconvert_exporter": "python",
   "pygments_lexer": "ipython3",
   "version": "3.8.6"
  }
 },
 "nbformat": 4,
 "nbformat_minor": 5
}
