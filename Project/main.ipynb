{
 "cells": [
  {
   "cell_type": "code",
   "execution_count": 43,
   "id": "optical-dominican",
   "metadata": {},
   "outputs": [],
   "source": [
    "from tensorflow.keras.applications.xception import Xception\n",
    "from tensorflow.keras.preprocessing import image\n",
    "from tensorflow.keras.applications.xception import preprocess_input, decode_predictions"
   ]
  },
  {
   "cell_type": "code",
   "execution_count": 53,
   "id": "swedish-hungary",
   "metadata": {},
   "outputs": [],
   "source": [
    "import pandas \n",
    "import tensorflow.keras as keras\n",
    "from tensorflow.keras import backend as K\n",
    "import numpy as np\n",
    "from IPython.display import display\n",
    "import matplotlib.pyplot as plt\n",
    "from mpl_toolkits.mplot3d import axes3d \n",
    "%matplotlib inline"
   ]
  },
  {
   "cell_type": "code",
   "execution_count": 54,
   "id": "inside-amino",
   "metadata": {},
   "outputs": [
    {
     "data": {
      "text/plain": [
       "(1000, 299, 299, 3)"
      ]
     },
     "execution_count": 54,
     "metadata": {},
     "output_type": "execute_result"
    }
   ],
   "source": [
    "def grab_image(img_path):\n",
    "    img = image.load_img(img_path, target_size=(299, 299)) \n",
    "    x = image.img_to_array(img)\n",
    "    x = np.expand_dims(x, axis=0)\n",
    "    x = preprocess_input(x)\n",
    "    return x\n",
    "\n",
    "# Grab training images\n",
    "X = np.concatenate( \n",
    "    [grab_image('Training_images/image%d.tif'%(i))\n",
    "    for i in range(1,1001)]) \n",
    "X.shape"
   ]
  },
  {
   "cell_type": "code",
   "execution_count": 59,
   "id": "adjusted-penetration",
   "metadata": {},
   "outputs": [
    {
     "data": {
      "text/plain": [
       "(1000, 16)"
      ]
     },
     "execution_count": 59,
     "metadata": {},
     "output_type": "execute_result"
    }
   ],
   "source": [
    "# Read in data labels\n",
    "Y = np.loadtxt('Training_labels.csv')\n",
    "Y = keras.utils.to_categorical(Y)\n",
    "Y.shape"
   ]
  },
  {
   "cell_type": "code",
   "execution_count": 60,
   "id": "certified-blind",
   "metadata": {},
   "outputs": [
    {
     "data": {
      "text/plain": [
       "array([[0., 0., 0., 0., 0., 0., 0., 0., 1., 0., 0., 0., 0., 0., 0., 0.],\n",
       "       [0., 0., 0., 0., 0., 0., 0., 0., 1., 0., 0., 0., 0., 0., 0., 0.],\n",
       "       [0., 0., 0., 0., 0., 0., 0., 0., 0., 1., 0., 0., 0., 0., 0., 0.],\n",
       "       [0., 0., 0., 0., 0., 0., 0., 0., 0., 1., 0., 0., 0., 0., 0., 0.],\n",
       "       [0., 1., 0., 0., 0., 0., 0., 0., 0., 0., 0., 0., 0., 0., 0., 0.],\n",
       "       [0., 0., 0., 0., 0., 0., 0., 0., 0., 0., 0., 0., 0., 0., 0., 1.],\n",
       "       [0., 0., 0., 0., 0., 0., 0., 0., 0., 0., 0., 1., 0., 0., 0., 0.],\n",
       "       [1., 0., 0., 0., 0., 0., 0., 0., 0., 0., 0., 0., 0., 0., 0., 0.],\n",
       "       [1., 0., 0., 0., 0., 0., 0., 0., 0., 0., 0., 0., 0., 0., 0., 0.],\n",
       "       [0., 0., 0., 0., 0., 1., 0., 0., 0., 0., 0., 0., 0., 0., 0., 0.]],\n",
       "      dtype=float32)"
      ]
     },
     "execution_count": 60,
     "metadata": {},
     "output_type": "execute_result"
    }
   ],
   "source": [
    "# Visual confirmations labels have been read in correctly\n",
    "Y[0:10]"
   ]
  },
  {
   "cell_type": "code",
   "execution_count": 61,
   "id": "known-baltimore",
   "metadata": {},
   "outputs": [
    {
     "name": "stdout",
     "output_type": "stream",
     "text": [
      "Model: \"sequential\"\n",
      "_________________________________________________________________\n",
      "Layer (type)                 Output Shape              Param #   \n",
      "=================================================================\n",
      "conv2d (Conv2D)              (None, 294, 294, 36)      3924      \n",
      "_________________________________________________________________\n",
      "conv2d_1 (Conv2D)            (None, 289, 289, 65)      84305     \n",
      "_________________________________________________________________\n",
      "max_pooling2d (MaxPooling2D) (None, 144, 144, 65)      0         \n",
      "_________________________________________________________________\n",
      "dropout (Dropout)            (None, 144, 144, 65)      0         \n",
      "_________________________________________________________________\n",
      "flatten (Flatten)            (None, 1347840)           0         \n",
      "_________________________________________________________________\n",
      "dense (Dense)                (None, 65)                87609665  \n",
      "_________________________________________________________________\n",
      "dropout_1 (Dropout)          (None, 65)                0         \n",
      "_________________________________________________________________\n",
      "dense_1 (Dense)              (None, 16)                1056      \n",
      "=================================================================\n",
      "Total params: 87,698,950\n",
      "Trainable params: 87,698,950\n",
      "Non-trainable params: 0\n",
      "_________________________________________________________________\n"
     ]
    }
   ],
   "source": [
    "#Build model\n",
    "model=keras.Sequential()\n",
    "# Note the input size (there is only one channel - intensity)\n",
    "# these images... if you are using color images, your would\n",
    "# need to set the last dimension of the input_shape to -3-\n",
    "# above and this would carry over into this cell...\n",
    "model.add(keras.layers.Conv2D(36,kernel_size=(6,6),\n",
    "                              activation='relu',input_shape=[X.shape[1],\n",
    "                                                             X.shape[2],\n",
    "                                                             X.shape[3]]))\n",
    "model.add(keras.layers.Conv2D(65,(6,6),activation='relu'))\n",
    "model.add(keras.layers.MaxPooling2D(pool_size=(2,2)))\n",
    "model.add(keras.layers.Dropout(0.25))\n",
    "model.add(keras.layers.Flatten())\n",
    "model.add(keras.layers.Dense(65,activation='relu'))\n",
    "model.add(keras.layers.Dropout(0.5))\n",
    "model.add(keras.layers.Dense(Y.shape[1],activation='softmax'))\n",
    "\n",
    "model.compile(loss=keras.losses.CategoricalCrossentropy(),\n",
    "              optimizer=keras.optimizers.Adam(),\n",
    "              metrics=[keras.metrics.CategoricalAccuracy()])\n",
    "model.summary()"
   ]
  },
  {
   "cell_type": "code",
   "execution_count": 62,
   "id": "offshore-platform",
   "metadata": {},
   "outputs": [
    {
     "name": "stdout",
     "output_type": "stream",
     "text": [
      "Epoch 1/10\n",
      "50/50 [==============================] - 521s 10s/step - loss: 14.4691 - categorical_accuracy: 0.1062\n",
      "Epoch 2/10\n",
      "50/50 [==============================] - 595s 12s/step - loss: 2.6710 - categorical_accuracy: 0.1504\n",
      "Epoch 3/10\n",
      "50/50 [==============================] - 600s 12s/step - loss: 2.3766 - categorical_accuracy: 0.2795\n",
      "Epoch 4/10\n",
      "50/50 [==============================] - 498s 10s/step - loss: 2.0389 - categorical_accuracy: 0.4078\n",
      "Epoch 5/10\n",
      "50/50 [==============================] - 608s 12s/step - loss: 1.4666 - categorical_accuracy: 0.5739\n",
      "Epoch 6/10\n",
      "50/50 [==============================] - 507s 10s/step - loss: 0.9304 - categorical_accuracy: 0.7477\n",
      "Epoch 7/10\n",
      "50/50 [==============================] - 507s 10s/step - loss: 0.6182 - categorical_accuracy: 0.8003\n",
      "Epoch 8/10\n",
      "50/50 [==============================] - 511s 10s/step - loss: 0.3582 - categorical_accuracy: 0.8832\n",
      "Epoch 9/10\n",
      "50/50 [==============================] - 533s 11s/step - loss: 0.3542 - categorical_accuracy: 0.8870\n",
      "Epoch 10/10\n",
      "50/50 [==============================] - 555s 11s/step - loss: 0.3109 - categorical_accuracy: 0.9058\n"
     ]
    }
   ],
   "source": [
    "#Train model\n",
    "batch_size = 20\n",
    "epochs = 10\n",
    "history = model.fit(X, Y,\n",
    "                    batch_size = batch_size,\n",
    "                    epochs = epochs,\n",
    "                    verbose = 1)"
   ]
  },
  {
   "cell_type": "code",
   "execution_count": 64,
   "id": "greatest-mainland",
   "metadata": {},
   "outputs": [
    {
     "data": {
      "image/png": "[encoded data removed]",
      "text/plain": [
       "<Figure size 432x288 with 2 Axes>"
      ]
     },
     "metadata": {
      "needs_background": "light"
     },
     "output_type": "display_data"
    }
   ],
   "source": [
    "plt.figure()\n",
    "\n",
    "# summarize history for accuracy  \n",
    "plt.subplot(211)\n",
    "plt.plot(history.history['categorical_accuracy'])\n",
    "#plt.plot(history.history['val_categorical_accuracy'])\n",
    "plt.title('model accuracy')\n",
    "plt.ylabel('accuracy')\n",
    "plt.xlabel('epoch')\n",
    "plt.legend(['training'],loc='upper left')\n",
    "# Add validation later\n",
    "#plt.legend(['training','validation'],loc='upper left')\n",
    "\n",
    "# summarize history for loss  \n",
    "plt.subplot(212)\n",
    "plt.plot(history.history['loss'])\n",
    "#plt.plot(history.history['val_loss'])\n",
    "plt.title('model loss')\n",
    "plt.ylabel('loss')\n",
    "plt.xlabel('epoch')\n",
    "plt.legend(['training'],loc='upper left')\n",
    "# Add validation later\n",
    "#plt.legend(['training','validation'],loc='upper left')\n",
    "plt.tight_layout()\n",
    "plt.show()"
   ]
  },
  {
   "cell_type": "code",
   "execution_count": null,
   "id": "arabic-chassis",
   "metadata": {},
   "outputs": [],
   "source": []
  }
 ],
 "metadata": {
  "kernelspec": {
   "display_name": "Python 3",
   "language": "python",
   "name": "python3"
  },
  "language_info": {
   "codemirror_mode": {
    "name": "ipython",
    "version": 3
   },
   "file_extension": ".py",
   "mimetype": "text/x-python",
   "name": "python",
   "nbconvert_exporter": "python",
   "pygments_lexer": "ipython3",
   "version": "3.8.6"
  }
 },
 "nbformat": 4,
 "nbformat_minor": 5
}
